{
 "cells": [
  {
   "cell_type": "code",
   "execution_count": 34,
   "id": "0b4d85f2-57c4-4d3b-acc2-d2dcd6df6f84",
   "metadata": {},
   "outputs": [],
   "source": [
    "import sys\n",
    "sys.path.append('/Users/ignasivalles/Oceanography/IEO/projects/POM/pom.github.io/src')\n",
    "from data_functions import *\n",
    "import pandas as pd\n",
    "import numpy as np\n",
    "import glob\n",
    "import os\n",
    "import matplotlib.pyplot as plt\n",
    "\n",
    "file_path= \"/Users/ignasivalles/Google Drive/La meva unitat/POM/data/raw/ieo2sh01a-04C6 6500 710F 02-20240923 115651.csv\"\n",
    "\n",
    "def detect_water_temp_v2(temp, time, window_size=6, only_water_val=True):\n",
    "    # Calculate the rolling mean and rolling variance\n",
    "    moving_avg = pd.Series(temp).rolling(window=window_size, min_periods=1).mean().to_numpy()\n",
    "    moving_var = pd.Series(temp).rolling(window=window_size, min_periods=1).var().to_numpy()\n",
    "\n",
    "    # Define a threshold for detecting similar values, using a small variance threshold\n",
    "    var_threshold = np.nanmean(moving_var) * 0.1\n",
    "\n",
    "    # Identify periods with low variance\n",
    "    similar_periods = moving_var < var_threshold\n",
    "\n",
    "    # Find the longest period of similar values\n",
    "    max_length = 0\n",
    "    max_start = 0\n",
    "    current_start = 0\n",
    "    current_length = 0\n",
    "\n",
    "    for i in range(len(similar_periods)):\n",
    "        if similar_periods[i]:\n",
    "            if current_length == 0:\n",
    "                current_start = i\n",
    "            current_length += 1\n",
    "        else:\n",
    "            if current_length > max_length:\n",
    "                max_length = current_length\n",
    "                max_start = current_start\n",
    "            current_length = 0\n",
    "\n",
    "    if current_length > max_length:\n",
    "        max_length = current_length\n",
    "        max_start = current_start\n",
    "\n",
    "    longest_similar_period = temp[max_start:max_start + max_length]\n",
    "    time_similar_period = time[max_start:max_start + max_length]\n",
    "    \n",
    "    print(longest_similar_period)\n",
    "    if only_water_val:\n",
    "        return np.nanmean(longest_similar_period), time_similar_period[0]\n",
    "    else:\n",
    "        water_time = time[max_start:max_start + max_length]\n",
    "        return longest_similar_period, water_time, moving_var, var_threshold\n",
    "\n",
    "\n",
    "\n",
    "def get_data_from_temp_sensors(filepath, team_name='raw', lat= None, lon= None, ):\n",
    "\n",
    "    data=extract_lat_lon_temp_time(filepath)\n",
    "    time=data.time.values\n",
    "    temp=data.temp.values\n",
    "\n",
    "    water_temp, water_time = detect_water_temp_v2(temp, time)\n",
    "    time_str = np.datetime_as_string(water_time, unit='h')\n",
    "    fractional_time=datetime_to_decimal_year(water_time)\n",
    "    \n",
    "    if not lat:\n",
    "      lat=data.lat.values[0]\n",
    "      lon=data.lon.values[0]\n",
    "\n",
    "    df = pd.DataFrame([{  # Approx. week 52 for Dec 24\n",
    "    'Date': time_str,\n",
    "    'Latitude': lat,\n",
    "    'Longitude': lon,\n",
    "    'Temperature': water_temp,\n",
    "    'fractional_time': fractional_time,\n",
    "    'Team': team_name}])\n",
    "\n",
    "    return df"
   ]
  },
  {
   "cell_type": "code",
   "execution_count": 35,
   "id": "90888ebc-4ae8-4395-a3bd-213cf54b940b",
   "metadata": {},
   "outputs": [
    {
     "name": "stdout",
     "output_type": "stream",
     "text": [
      "[16.8 16.8 16.8 16.7 16.9]\n"
     ]
    },
    {
     "data": {
      "text/html": [
       "<div>\n",
       "<style scoped>\n",
       "    .dataframe tbody tr th:only-of-type {\n",
       "        vertical-align: middle;\n",
       "    }\n",
       "\n",
       "    .dataframe tbody tr th {\n",
       "        vertical-align: top;\n",
       "    }\n",
       "\n",
       "    .dataframe thead th {\n",
       "        text-align: right;\n",
       "    }\n",
       "</style>\n",
       "<table border=\"1\" class=\"dataframe\">\n",
       "  <thead>\n",
       "    <tr style=\"text-align: right;\">\n",
       "      <th></th>\n",
       "      <th>Date</th>\n",
       "      <th>Latitude</th>\n",
       "      <th>Longitude</th>\n",
       "      <th>Temperature</th>\n",
       "      <th>fractional_time</th>\n",
       "      <th>Team</th>\n",
       "    </tr>\n",
       "  </thead>\n",
       "  <tbody>\n",
       "    <tr>\n",
       "      <th>0</th>\n",
       "      <td>2024-09-23T09</td>\n",
       "      <td>43.46</td>\n",
       "      <td>-3.78</td>\n",
       "      <td>16.8</td>\n",
       "      <td>8.721311</td>\n",
       "      <td>raw</td>\n",
       "    </tr>\n",
       "  </tbody>\n",
       "</table>\n",
       "</div>"
      ],
      "text/plain": [
       "            Date  Latitude  Longitude  Temperature  fractional_time Team\n",
       "0  2024-09-23T09     43.46      -3.78         16.8         8.721311  raw"
      ]
     },
     "execution_count": 35,
     "metadata": {},
     "output_type": "execute_result"
    }
   ],
   "source": [
    "get_data_from_temp_sensors(file_path)"
   ]
  },
  {
   "cell_type": "code",
   "execution_count": 25,
   "id": "edc656c4-db96-4e14-897c-9120e959bfd6",
   "metadata": {},
   "outputs": [
    {
     "data": {
      "text/plain": [
       "np.float64(17.02857142857143)"
      ]
     },
     "execution_count": 25,
     "metadata": {},
     "output_type": "execute_result"
    }
   ],
   "source": [
    "data=extract_lat_lon_temp_time(file_path)\n",
    "time=data.time.values\n",
    "temp=data.temp.values\n",
    "\n",
    "detect_water_temp2(temp,time)"
   ]
  },
  {
   "cell_type": "code",
   "execution_count": null,
   "id": "3a2f37a9-88ce-4b9c-8d1f-bcaad7f8f203",
   "metadata": {},
   "outputs": [],
   "source": []
  }
 ],
 "metadata": {
  "kernelspec": {
   "display_name": "Python 3 (ipykernel)",
   "language": "python",
   "name": "python3"
  },
  "language_info": {
   "codemirror_mode": {
    "name": "ipython",
    "version": 3
   },
   "file_extension": ".py",
   "mimetype": "text/x-python",
   "name": "python",
   "nbconvert_exporter": "python",
   "pygments_lexer": "ipython3",
   "version": "3.13.1"
  }
 },
 "nbformat": 4,
 "nbformat_minor": 5
}
